{
 "cells": [
  {
   "cell_type": "markdown",
   "metadata": {
    "id": "nSHS2iXvLUoO"
   },
   "source": [
    "# 00 - EDA"
   ]
  },
  {
   "cell_type": "code",
   "execution_count": 1,
   "metadata": {
    "id": "Li-yMJEGLVC4"
   },
   "outputs": [],
   "source": [
    "import pandas as pd\n",
    "df=pd.read_csv('D:\\\\bl\\\\insight-test.csv')"
   ]
  },
  {
   "cell_type": "code",
   "execution_count": 2,
   "metadata": {
    "id": "BGsfpj6LLW3D"
   },
   "outputs": [],
   "source": [
    "def df_summarier(df):\n",
    "    a = df.isna().any(axis=0)\n",
    "    b = df.dtypes\n",
    "    c = df.nunique()\n",
    "    d = pd.Series({col: df[col].unique() for col in df})\n",
    "    return pd.concat([a, b, c,d], axis=1).rename(\n",
    "        columns={0: \"has nan?\", 1: \"dtypes\", 2: \"num of unique values\", 3: \"list of unique values\"}\n",
    "    )\n"
   ]
  },
  {
   "cell_type": "code",
   "execution_count": 3,
   "metadata": {
    "colab": {
     "base_uri": "https://localhost:8080/",
     "height": 1000
    },
    "id": "zIpmhT9ULs_3",
    "outputId": "ae20a378-a030-4c55-dd06-c2c1b4870ad5"
   },
   "outputs": [
    {
     "data": {
      "text/html": [
       "<div>\n",
       "<style scoped>\n",
       "    .dataframe tbody tr th:only-of-type {\n",
       "        vertical-align: middle;\n",
       "    }\n",
       "\n",
       "    .dataframe tbody tr th {\n",
       "        vertical-align: top;\n",
       "    }\n",
       "\n",
       "    .dataframe thead th {\n",
       "        text-align: right;\n",
       "    }\n",
       "</style>\n",
       "<table border=\"1\" class=\"dataframe\">\n",
       "  <thead>\n",
       "    <tr style=\"text-align: right;\">\n",
       "      <th></th>\n",
       "      <th>has nan?</th>\n",
       "      <th>dtypes</th>\n",
       "      <th>num of unique values</th>\n",
       "      <th>list of unique values</th>\n",
       "    </tr>\n",
       "  </thead>\n",
       "  <tbody>\n",
       "    <tr>\n",
       "      <th>user_id</th>\n",
       "      <td>False</td>\n",
       "      <td>int64</td>\n",
       "      <td>69306</td>\n",
       "      <td>[281605921, 125302602, 125327377, 125601271, 1...</td>\n",
       "    </tr>\n",
       "    <tr>\n",
       "      <th>is_new</th>\n",
       "      <td>False</td>\n",
       "      <td>int64</td>\n",
       "      <td>2</td>\n",
       "      <td>[1, 0]</td>\n",
       "    </tr>\n",
       "    <tr>\n",
       "      <th>time</th>\n",
       "      <td>False</td>\n",
       "      <td>object</td>\n",
       "      <td>229835</td>\n",
       "      <td>[2015-06-12 03:41:44.263000+00:00, 2015-06-15 ...</td>\n",
       "    </tr>\n",
       "    <tr>\n",
       "      <th>voucher_type</th>\n",
       "      <td>True</td>\n",
       "      <td>float64</td>\n",
       "      <td>2</td>\n",
       "      <td>[nan, 1.0, 0.0]</td>\n",
       "    </tr>\n",
       "    <tr>\n",
       "      <th>voucher_valid</th>\n",
       "      <td>True</td>\n",
       "      <td>float64</td>\n",
       "      <td>2</td>\n",
       "      <td>[nan, 1.0, 0.0]</td>\n",
       "    </tr>\n",
       "    <tr>\n",
       "      <th>basket_amount</th>\n",
       "      <td>False</td>\n",
       "      <td>float64</td>\n",
       "      <td>125094</td>\n",
       "      <td>[2.8772007552981635e-05, 2.351516046569688e-05...</td>\n",
       "    </tr>\n",
       "    <tr>\n",
       "      <th>voucher_max_amount</th>\n",
       "      <td>False</td>\n",
       "      <td>float64</td>\n",
       "      <td>26</td>\n",
       "      <td>[0.0, 0.0002, 0.0004, 0.001, 2e-05, 4e-05, 0.0...</td>\n",
       "    </tr>\n",
       "    <tr>\n",
       "      <th>voucher_percentage</th>\n",
       "      <td>False</td>\n",
       "      <td>float64</td>\n",
       "      <td>20</td>\n",
       "      <td>[0.0, 1.0, 2.0, 1.5, 10.0, 20.0, 99.0, 50.0, 1...</td>\n",
       "    </tr>\n",
       "    <tr>\n",
       "      <th>voucher_min_purchase</th>\n",
       "      <td>False</td>\n",
       "      <td>float64</td>\n",
       "      <td>16</td>\n",
       "      <td>[0.0, 0.01, 0.02, 0.006, 0.002, 0.004, 0.001, ...</td>\n",
       "    </tr>\n",
       "    <tr>\n",
       "      <th>voucher_amount</th>\n",
       "      <td>False</td>\n",
       "      <td>float64</td>\n",
       "      <td>7451</td>\n",
       "      <td>[0.0, 0.0198636151779623, 0.0193235168800721, ...</td>\n",
       "    </tr>\n",
       "    <tr>\n",
       "      <th>trx_is_voucher</th>\n",
       "      <td>False</td>\n",
       "      <td>int64</td>\n",
       "      <td>2</td>\n",
       "      <td>[0, 1]</td>\n",
       "    </tr>\n",
       "    <tr>\n",
       "      <th>is_paid</th>\n",
       "      <td>False</td>\n",
       "      <td>int64</td>\n",
       "      <td>2</td>\n",
       "      <td>[0, 1]</td>\n",
       "    </tr>\n",
       "    <tr>\n",
       "      <th>is_remitted</th>\n",
       "      <td>False</td>\n",
       "      <td>int64</td>\n",
       "      <td>2</td>\n",
       "      <td>[0, 1]</td>\n",
       "    </tr>\n",
       "    <tr>\n",
       "      <th>user_purchased_prior</th>\n",
       "      <td>False</td>\n",
       "      <td>int64</td>\n",
       "      <td>2</td>\n",
       "      <td>[0, 1]</td>\n",
       "    </tr>\n",
       "    <tr>\n",
       "      <th>num_voucher_errors</th>\n",
       "      <td>False</td>\n",
       "      <td>int64</td>\n",
       "      <td>102</td>\n",
       "      <td>[0, 6, 5, 1, 3, 16, 48, 23, 4, 24, 22, 20, 19,...</td>\n",
       "    </tr>\n",
       "    <tr>\n",
       "      <th>purchase</th>\n",
       "      <td>False</td>\n",
       "      <td>int64</td>\n",
       "      <td>2</td>\n",
       "      <td>[0, 1]</td>\n",
       "    </tr>\n",
       "    <tr>\n",
       "      <th>province</th>\n",
       "      <td>False</td>\n",
       "      <td>int64</td>\n",
       "      <td>27</td>\n",
       "      <td>[0, 1, 2, 3, 4, 5, 6, 7, 8, 9, 10, 11, 12, 13,...</td>\n",
       "    </tr>\n",
       "    <tr>\n",
       "      <th>marketing_tier</th>\n",
       "      <td>True</td>\n",
       "      <td>object</td>\n",
       "      <td>4</td>\n",
       "      <td>[tier_2, tier_1, tier_3, tier_4, nan]</td>\n",
       "    </tr>\n",
       "    <tr>\n",
       "      <th>user_type</th>\n",
       "      <td>False</td>\n",
       "      <td>int64</td>\n",
       "      <td>16</td>\n",
       "      <td>[0, 1, 2, 3, 4, 5, 6, 7, 8, 9, 10, 11, 12, 13,...</td>\n",
       "    </tr>\n",
       "    <tr>\n",
       "      <th>user_group</th>\n",
       "      <td>False</td>\n",
       "      <td>int64</td>\n",
       "      <td>2</td>\n",
       "      <td>[0, 1]</td>\n",
       "    </tr>\n",
       "    <tr>\n",
       "      <th>account_type</th>\n",
       "      <td>False</td>\n",
       "      <td>int64</td>\n",
       "      <td>7</td>\n",
       "      <td>[0, 1, 2, 3, 4, 5, 6]</td>\n",
       "    </tr>\n",
       "    <tr>\n",
       "      <th>referrer_type</th>\n",
       "      <td>False</td>\n",
       "      <td>int64</td>\n",
       "      <td>7</td>\n",
       "      <td>[0, 1, 2, 3, 4, 5, 6]</td>\n",
       "    </tr>\n",
       "    <tr>\n",
       "      <th>account_created_at</th>\n",
       "      <td>False</td>\n",
       "      <td>object</td>\n",
       "      <td>69159</td>\n",
       "      <td>[2014-03-23 04:01:30+00:00, 2013-07-18 07:24:4...</td>\n",
       "    </tr>\n",
       "    <tr>\n",
       "      <th>user_register_from</th>\n",
       "      <td>False</td>\n",
       "      <td>int64</td>\n",
       "      <td>8</td>\n",
       "      <td>[0, 1, 2, 3, 4, 5, 6, 7]</td>\n",
       "    </tr>\n",
       "    <tr>\n",
       "      <th>sessions</th>\n",
       "      <td>False</td>\n",
       "      <td>float64</td>\n",
       "      <td>1513</td>\n",
       "      <td>[0.0041576283441793, 0.0164497469269703, 0.024...</td>\n",
       "    </tr>\n",
       "    <tr>\n",
       "      <th>average_session_length</th>\n",
       "      <td>False</td>\n",
       "      <td>float64</td>\n",
       "      <td>72918</td>\n",
       "      <td>[0.0014201489039182, 0.0048480223662408, 0.003...</td>\n",
       "    </tr>\n",
       "    <tr>\n",
       "      <th>num_visit_promo_page</th>\n",
       "      <td>False</td>\n",
       "      <td>float64</td>\n",
       "      <td>95</td>\n",
       "      <td>[0.0, 0.0067567567567567, 0.0202702702702702, ...</td>\n",
       "    </tr>\n",
       "    <tr>\n",
       "      <th>num_product_types</th>\n",
       "      <td>False</td>\n",
       "      <td>float64</td>\n",
       "      <td>31</td>\n",
       "      <td>[0.0, 0.2258064516129032, 0.032258064516129, 0...</td>\n",
       "    </tr>\n",
       "    <tr>\n",
       "      <th>num_trx</th>\n",
       "      <td>False</td>\n",
       "      <td>float64</td>\n",
       "      <td>1868</td>\n",
       "      <td>[0.0, 9.000090000900009e-05, 7.239202826810877...</td>\n",
       "    </tr>\n",
       "    <tr>\n",
       "      <th>num_trx_voucher</th>\n",
       "      <td>False</td>\n",
       "      <td>float64</td>\n",
       "      <td>122</td>\n",
       "      <td>[0.0, 0.0161662817551963, 0.023094688221709, 0...</td>\n",
       "    </tr>\n",
       "    <tr>\n",
       "      <th>gmv</th>\n",
       "      <td>False</td>\n",
       "      <td>float64</td>\n",
       "      <td>65720</td>\n",
       "      <td>[0.0332419998003988, 0.0338819280218784, 0.033...</td>\n",
       "    </tr>\n",
       "    <tr>\n",
       "      <th>aov</th>\n",
       "      <td>False</td>\n",
       "      <td>float64</td>\n",
       "      <td>65714</td>\n",
       "      <td>[0.1556185124338982, 0.1577025115338126, 0.156...</td>\n",
       "    </tr>\n",
       "  </tbody>\n",
       "</table>\n",
       "</div>"
      ],
      "text/plain": [
       "                        has nan?   dtypes  num of unique values  \\\n",
       "user_id                    False    int64                 69306   \n",
       "is_new                     False    int64                     2   \n",
       "time                       False   object                229835   \n",
       "voucher_type                True  float64                     2   \n",
       "voucher_valid               True  float64                     2   \n",
       "basket_amount              False  float64                125094   \n",
       "voucher_max_amount         False  float64                    26   \n",
       "voucher_percentage         False  float64                    20   \n",
       "voucher_min_purchase       False  float64                    16   \n",
       "voucher_amount             False  float64                  7451   \n",
       "trx_is_voucher             False    int64                     2   \n",
       "is_paid                    False    int64                     2   \n",
       "is_remitted                False    int64                     2   \n",
       "user_purchased_prior       False    int64                     2   \n",
       "num_voucher_errors         False    int64                   102   \n",
       "purchase                   False    int64                     2   \n",
       "province                   False    int64                    27   \n",
       "marketing_tier              True   object                     4   \n",
       "user_type                  False    int64                    16   \n",
       "user_group                 False    int64                     2   \n",
       "account_type               False    int64                     7   \n",
       "referrer_type              False    int64                     7   \n",
       "account_created_at         False   object                 69159   \n",
       "user_register_from         False    int64                     8   \n",
       "sessions                   False  float64                  1513   \n",
       "average_session_length     False  float64                 72918   \n",
       "num_visit_promo_page       False  float64                    95   \n",
       "num_product_types          False  float64                    31   \n",
       "num_trx                    False  float64                  1868   \n",
       "num_trx_voucher            False  float64                   122   \n",
       "gmv                        False  float64                 65720   \n",
       "aov                        False  float64                 65714   \n",
       "\n",
       "                                                    list of unique values  \n",
       "user_id                 [281605921, 125302602, 125327377, 125601271, 1...  \n",
       "is_new                                                             [1, 0]  \n",
       "time                    [2015-06-12 03:41:44.263000+00:00, 2015-06-15 ...  \n",
       "voucher_type                                              [nan, 1.0, 0.0]  \n",
       "voucher_valid                                             [nan, 1.0, 0.0]  \n",
       "basket_amount           [2.8772007552981635e-05, 2.351516046569688e-05...  \n",
       "voucher_max_amount      [0.0, 0.0002, 0.0004, 0.001, 2e-05, 4e-05, 0.0...  \n",
       "voucher_percentage      [0.0, 1.0, 2.0, 1.5, 10.0, 20.0, 99.0, 50.0, 1...  \n",
       "voucher_min_purchase    [0.0, 0.01, 0.02, 0.006, 0.002, 0.004, 0.001, ...  \n",
       "voucher_amount          [0.0, 0.0198636151779623, 0.0193235168800721, ...  \n",
       "trx_is_voucher                                                     [0, 1]  \n",
       "is_paid                                                            [0, 1]  \n",
       "is_remitted                                                        [0, 1]  \n",
       "user_purchased_prior                                               [0, 1]  \n",
       "num_voucher_errors      [0, 6, 5, 1, 3, 16, 48, 23, 4, 24, 22, 20, 19,...  \n",
       "purchase                                                           [0, 1]  \n",
       "province                [0, 1, 2, 3, 4, 5, 6, 7, 8, 9, 10, 11, 12, 13,...  \n",
       "marketing_tier                      [tier_2, tier_1, tier_3, tier_4, nan]  \n",
       "user_type               [0, 1, 2, 3, 4, 5, 6, 7, 8, 9, 10, 11, 12, 13,...  \n",
       "user_group                                                         [0, 1]  \n",
       "account_type                                        [0, 1, 2, 3, 4, 5, 6]  \n",
       "referrer_type                                       [0, 1, 2, 3, 4, 5, 6]  \n",
       "account_created_at      [2014-03-23 04:01:30+00:00, 2013-07-18 07:24:4...  \n",
       "user_register_from                               [0, 1, 2, 3, 4, 5, 6, 7]  \n",
       "sessions                [0.0041576283441793, 0.0164497469269703, 0.024...  \n",
       "average_session_length  [0.0014201489039182, 0.0048480223662408, 0.003...  \n",
       "num_visit_promo_page    [0.0, 0.0067567567567567, 0.0202702702702702, ...  \n",
       "num_product_types       [0.0, 0.2258064516129032, 0.032258064516129, 0...  \n",
       "num_trx                 [0.0, 9.000090000900009e-05, 7.239202826810877...  \n",
       "num_trx_voucher         [0.0, 0.0161662817551963, 0.023094688221709, 0...  \n",
       "gmv                     [0.0332419998003988, 0.0338819280218784, 0.033...  \n",
       "aov                     [0.1556185124338982, 0.1577025115338126, 0.156...  "
      ]
     },
     "execution_count": 3,
     "metadata": {},
     "output_type": "execute_result"
    }
   ],
   "source": [
    "df_summarier(df)"
   ]
  },
  {
   "cell_type": "code",
   "execution_count": 4,
   "metadata": {
    "id": "3kiKUBEpmYKE"
   },
   "outputs": [],
   "source": [
    "# df.fillna(df.min(), inplace=True)\n",
    "df['voucher_type'] = df['voucher_type'].astype('Int64').astype(str)\n",
    "df['voucher_valid'] = df['voucher_valid'].astype('Int64').astype(str)\n",
    "df.fillna('unknown', inplace=True)\n"
   ]
  },
  {
   "cell_type": "code",
   "execution_count": 5,
   "metadata": {
    "colab": {
     "base_uri": "https://localhost:8080/"
    },
    "id": "9Wkki9l7wG6J",
    "outputId": "31b5bfad-e83d-4761-9249-2bbcec57cd97"
   },
   "outputs": [
    {
     "data": {
      "text/plain": [
       "user_group\n",
       "0     82603\n",
       "1    147244\n",
       "Name: user_id, dtype: int64"
      ]
     },
     "execution_count": 5,
     "metadata": {},
     "output_type": "execute_result"
    }
   ],
   "source": [
    "df.groupby('user_group').user_id.count()"
   ]
  },
  {
   "cell_type": "code",
   "execution_count": 6,
   "metadata": {
    "id": "_P47YjyTmfdN"
   },
   "outputs": [],
   "source": [
    "# df_summarier(df)"
   ]
  },
  {
   "cell_type": "code",
   "execution_count": 7,
   "metadata": {
    "colab": {
     "base_uri": "https://localhost:8080/",
     "height": 896
    },
    "id": "WOZlltWlk4k1",
    "outputId": "9a7d0951-a6c6-47ea-9ee1-e3480dd7a41b"
   },
   "outputs": [
    {
     "data": {
      "text/html": [
       "<div>\n",
       "<style scoped>\n",
       "    .dataframe tbody tr th:only-of-type {\n",
       "        vertical-align: middle;\n",
       "    }\n",
       "\n",
       "    .dataframe tbody tr th {\n",
       "        vertical-align: top;\n",
       "    }\n",
       "\n",
       "    .dataframe thead th {\n",
       "        text-align: right;\n",
       "    }\n",
       "</style>\n",
       "<table border=\"1\" class=\"dataframe\">\n",
       "  <thead>\n",
       "    <tr style=\"text-align: right;\">\n",
       "      <th></th>\n",
       "      <th></th>\n",
       "      <th></th>\n",
       "      <th></th>\n",
       "      <th></th>\n",
       "      <th></th>\n",
       "      <th>voucher_valid</th>\n",
       "    </tr>\n",
       "    <tr>\n",
       "      <th>is_remitted</th>\n",
       "      <th>is_paid</th>\n",
       "      <th>purchase</th>\n",
       "      <th>trx_is_voucher</th>\n",
       "      <th>voucher_valid</th>\n",
       "      <th>voucher_type</th>\n",
       "      <th></th>\n",
       "    </tr>\n",
       "  </thead>\n",
       "  <tbody>\n",
       "    <tr>\n",
       "      <th rowspan=\"17\" valign=\"top\">0</th>\n",
       "      <th rowspan=\"10\" valign=\"top\">0</th>\n",
       "      <th rowspan=\"4\" valign=\"top\">0</th>\n",
       "      <th rowspan=\"4\" valign=\"top\">0</th>\n",
       "      <th>0</th>\n",
       "      <th>&lt;NA&gt;</th>\n",
       "      <td>301</td>\n",
       "    </tr>\n",
       "    <tr>\n",
       "      <th rowspan=\"2\" valign=\"top\">1</th>\n",
       "      <th>0</th>\n",
       "      <td>135</td>\n",
       "    </tr>\n",
       "    <tr>\n",
       "      <th>1</th>\n",
       "      <td>485</td>\n",
       "    </tr>\n",
       "    <tr>\n",
       "      <th>&lt;NA&gt;</th>\n",
       "      <th>&lt;NA&gt;</th>\n",
       "      <td>6459</td>\n",
       "    </tr>\n",
       "    <tr>\n",
       "      <th rowspan=\"6\" valign=\"top\">1</th>\n",
       "      <th rowspan=\"4\" valign=\"top\">0</th>\n",
       "      <th>0</th>\n",
       "      <th>&lt;NA&gt;</th>\n",
       "      <td>402</td>\n",
       "    </tr>\n",
       "    <tr>\n",
       "      <th rowspan=\"2\" valign=\"top\">1</th>\n",
       "      <th>0</th>\n",
       "      <td>150</td>\n",
       "    </tr>\n",
       "    <tr>\n",
       "      <th>1</th>\n",
       "      <td>236</td>\n",
       "    </tr>\n",
       "    <tr>\n",
       "      <th>&lt;NA&gt;</th>\n",
       "      <th>&lt;NA&gt;</th>\n",
       "      <td>641</td>\n",
       "    </tr>\n",
       "    <tr>\n",
       "      <th rowspan=\"2\" valign=\"top\">1</th>\n",
       "      <th rowspan=\"2\" valign=\"top\">1</th>\n",
       "      <th>0</th>\n",
       "      <td>1</td>\n",
       "    </tr>\n",
       "    <tr>\n",
       "      <th>1</th>\n",
       "      <td>3</td>\n",
       "    </tr>\n",
       "    <tr>\n",
       "      <th rowspan=\"7\" valign=\"top\">1</th>\n",
       "      <th rowspan=\"7\" valign=\"top\">1</th>\n",
       "      <th rowspan=\"4\" valign=\"top\">0</th>\n",
       "      <th>0</th>\n",
       "      <th>&lt;NA&gt;</th>\n",
       "      <td>123</td>\n",
       "    </tr>\n",
       "    <tr>\n",
       "      <th rowspan=\"2\" valign=\"top\">1</th>\n",
       "      <th>0</th>\n",
       "      <td>8</td>\n",
       "    </tr>\n",
       "    <tr>\n",
       "      <th>1</th>\n",
       "      <td>122</td>\n",
       "    </tr>\n",
       "    <tr>\n",
       "      <th>&lt;NA&gt;</th>\n",
       "      <th>&lt;NA&gt;</th>\n",
       "      <td>5937</td>\n",
       "    </tr>\n",
       "    <tr>\n",
       "      <th rowspan=\"3\" valign=\"top\">1</th>\n",
       "      <th rowspan=\"2\" valign=\"top\">1</th>\n",
       "      <th>0</th>\n",
       "      <td>102</td>\n",
       "    </tr>\n",
       "    <tr>\n",
       "      <th>1</th>\n",
       "      <td>536</td>\n",
       "    </tr>\n",
       "    <tr>\n",
       "      <th>&lt;NA&gt;</th>\n",
       "      <th>&lt;NA&gt;</th>\n",
       "      <td>1</td>\n",
       "    </tr>\n",
       "    <tr>\n",
       "      <th rowspan=\"9\" valign=\"top\">1</th>\n",
       "      <th>0</th>\n",
       "      <th>1</th>\n",
       "      <th>0</th>\n",
       "      <th>&lt;NA&gt;</th>\n",
       "      <th>&lt;NA&gt;</th>\n",
       "      <td>1</td>\n",
       "    </tr>\n",
       "    <tr>\n",
       "      <th rowspan=\"8\" valign=\"top\">1</th>\n",
       "      <th rowspan=\"8\" valign=\"top\">1</th>\n",
       "      <th rowspan=\"4\" valign=\"top\">0</th>\n",
       "      <th>0</th>\n",
       "      <th>&lt;NA&gt;</th>\n",
       "      <td>2161</td>\n",
       "    </tr>\n",
       "    <tr>\n",
       "      <th rowspan=\"2\" valign=\"top\">1</th>\n",
       "      <th>0</th>\n",
       "      <td>71</td>\n",
       "    </tr>\n",
       "    <tr>\n",
       "      <th>1</th>\n",
       "      <td>1688</td>\n",
       "    </tr>\n",
       "    <tr>\n",
       "      <th>&lt;NA&gt;</th>\n",
       "      <th>&lt;NA&gt;</th>\n",
       "      <td>174670</td>\n",
       "    </tr>\n",
       "    <tr>\n",
       "      <th rowspan=\"4\" valign=\"top\">1</th>\n",
       "      <th>0</th>\n",
       "      <th>&lt;NA&gt;</th>\n",
       "      <td>36</td>\n",
       "    </tr>\n",
       "    <tr>\n",
       "      <th rowspan=\"2\" valign=\"top\">1</th>\n",
       "      <th>0</th>\n",
       "      <td>6522</td>\n",
       "    </tr>\n",
       "    <tr>\n",
       "      <th>1</th>\n",
       "      <td>28899</td>\n",
       "    </tr>\n",
       "    <tr>\n",
       "      <th>&lt;NA&gt;</th>\n",
       "      <th>&lt;NA&gt;</th>\n",
       "      <td>157</td>\n",
       "    </tr>\n",
       "  </tbody>\n",
       "</table>\n",
       "</div>"
      ],
      "text/plain": [
       "                                                                        voucher_valid\n",
       "is_remitted is_paid purchase trx_is_voucher voucher_valid voucher_type               \n",
       "0           0       0        0              0             <NA>                    301\n",
       "                                            1             0                       135\n",
       "                                                          1                       485\n",
       "                                            <NA>          <NA>                   6459\n",
       "                    1        0              0             <NA>                    402\n",
       "                                            1             0                       150\n",
       "                                                          1                       236\n",
       "                                            <NA>          <NA>                    641\n",
       "                             1              1             0                         1\n",
       "                                                          1                         3\n",
       "            1       1        0              0             <NA>                    123\n",
       "                                            1             0                         8\n",
       "                                                          1                       122\n",
       "                                            <NA>          <NA>                   5937\n",
       "                             1              1             0                       102\n",
       "                                                          1                       536\n",
       "                                            <NA>          <NA>                      1\n",
       "1           0       1        0              <NA>          <NA>                      1\n",
       "            1       1        0              0             <NA>                   2161\n",
       "                                            1             0                        71\n",
       "                                                          1                      1688\n",
       "                                            <NA>          <NA>                 174670\n",
       "                             1              0             <NA>                     36\n",
       "                                            1             0                      6522\n",
       "                                                          1                     28899\n",
       "                                            <NA>          <NA>                    157"
      ]
     },
     "execution_count": 7,
     "metadata": {},
     "output_type": "execute_result"
    }
   ],
   "source": [
    "df.groupby(['is_remitted','is_paid','purchase','trx_is_voucher', 'voucher_valid','voucher_type'], dropna=False)[['voucher_valid']].count()"
   ]
  },
  {
   "cell_type": "code",
   "execution_count": 8,
   "metadata": {
    "colab": {
     "base_uri": "https://localhost:8080/",
     "height": 191
    },
    "id": "tu5QAJyntKPS",
    "outputId": "cda8aaf3-8343-42fa-c8ee-e430dcc6a069"
   },
   "outputs": [
    {
     "data": {
      "text/html": [
       "<div>\n",
       "<style scoped>\n",
       "    .dataframe tbody tr th:only-of-type {\n",
       "        vertical-align: middle;\n",
       "    }\n",
       "\n",
       "    .dataframe tbody tr th {\n",
       "        vertical-align: top;\n",
       "    }\n",
       "\n",
       "    .dataframe thead th {\n",
       "        text-align: right;\n",
       "    }\n",
       "</style>\n",
       "<table border=\"1\" class=\"dataframe\">\n",
       "  <thead>\n",
       "    <tr style=\"text-align: right;\">\n",
       "      <th></th>\n",
       "      <th>user_id</th>\n",
       "      <th>is_new</th>\n",
       "      <th>time</th>\n",
       "      <th>voucher_type</th>\n",
       "      <th>voucher_valid</th>\n",
       "      <th>basket_amount</th>\n",
       "      <th>voucher_max_amount</th>\n",
       "      <th>voucher_percentage</th>\n",
       "      <th>voucher_min_purchase</th>\n",
       "      <th>voucher_amount</th>\n",
       "      <th>...</th>\n",
       "      <th>account_created_at</th>\n",
       "      <th>user_register_from</th>\n",
       "      <th>sessions</th>\n",
       "      <th>average_session_length</th>\n",
       "      <th>num_visit_promo_page</th>\n",
       "      <th>num_product_types</th>\n",
       "      <th>num_trx</th>\n",
       "      <th>num_trx_voucher</th>\n",
       "      <th>gmv</th>\n",
       "      <th>aov</th>\n",
       "    </tr>\n",
       "  </thead>\n",
       "  <tbody>\n",
       "    <tr>\n",
       "      <th>101021</th>\n",
       "      <td>140386015</td>\n",
       "      <td>1</td>\n",
       "      <td>2015-06-14 10:25:21.006000+00:00</td>\n",
       "      <td>&lt;NA&gt;</td>\n",
       "      <td>&lt;NA&gt;</td>\n",
       "      <td>4.219543e-08</td>\n",
       "      <td>0.0</td>\n",
       "      <td>0.0</td>\n",
       "      <td>0.0</td>\n",
       "      <td>0.0</td>\n",
       "      <td>...</td>\n",
       "      <td>2013-09-04 06:17:17+00:00</td>\n",
       "      <td>1</td>\n",
       "      <td>0.10846</td>\n",
       "      <td>0.003916</td>\n",
       "      <td>0.013514</td>\n",
       "      <td>0.129032</td>\n",
       "      <td>0.000078</td>\n",
       "      <td>0.0</td>\n",
       "      <td>0.033244</td>\n",
       "      <td>0.155625</td>\n",
       "    </tr>\n",
       "  </tbody>\n",
       "</table>\n",
       "<p>1 rows × 32 columns</p>\n",
       "</div>"
      ],
      "text/plain": [
       "          user_id  is_new                              time voucher_type  \\\n",
       "101021  140386015       1  2015-06-14 10:25:21.006000+00:00         <NA>   \n",
       "\n",
       "       voucher_valid  basket_amount  voucher_max_amount  voucher_percentage  \\\n",
       "101021          <NA>   4.219543e-08                 0.0                 0.0   \n",
       "\n",
       "        voucher_min_purchase  voucher_amount  ...         account_created_at  \\\n",
       "101021                   0.0             0.0  ...  2013-09-04 06:17:17+00:00   \n",
       "\n",
       "        user_register_from  sessions  average_session_length  \\\n",
       "101021                   1   0.10846                0.003916   \n",
       "\n",
       "        num_visit_promo_page  num_product_types   num_trx num_trx_voucher  \\\n",
       "101021              0.013514           0.129032  0.000078             0.0   \n",
       "\n",
       "             gmv       aov  \n",
       "101021  0.033244  0.155625  \n",
       "\n",
       "[1 rows x 32 columns]"
      ]
     },
     "execution_count": 8,
     "metadata": {},
     "output_type": "execute_result"
    }
   ],
   "source": [
    "df.query('is_paid==0 & is_remitted==1')"
   ]
  },
  {
   "cell_type": "code",
   "execution_count": 9,
   "metadata": {
    "id": "GNfoOwF7tw2f"
   },
   "outputs": [],
   "source": [
    "df.drop(101021,inplace=True)"
   ]
  },
  {
   "cell_type": "code",
   "execution_count": 10,
   "metadata": {
    "colab": {
     "base_uri": "https://localhost:8080/",
     "height": 143
    },
    "id": "0snhl0Lzq6bW",
    "outputId": "a925476d-f748-40ca-9c37-4e49995c231e"
   },
   "outputs": [
    {
     "data": {
      "text/html": [
       "<div>\n",
       "<style scoped>\n",
       "    .dataframe tbody tr th:only-of-type {\n",
       "        vertical-align: middle;\n",
       "    }\n",
       "\n",
       "    .dataframe tbody tr th {\n",
       "        vertical-align: top;\n",
       "    }\n",
       "\n",
       "    .dataframe thead th {\n",
       "        text-align: right;\n",
       "    }\n",
       "</style>\n",
       "<table border=\"1\" class=\"dataframe\">\n",
       "  <thead>\n",
       "    <tr style=\"text-align: right;\">\n",
       "      <th>purchase</th>\n",
       "      <th>0</th>\n",
       "      <th>1</th>\n",
       "    </tr>\n",
       "    <tr>\n",
       "      <th>is_paid</th>\n",
       "      <th></th>\n",
       "      <th></th>\n",
       "    </tr>\n",
       "  </thead>\n",
       "  <tbody>\n",
       "    <tr>\n",
       "      <th>0</th>\n",
       "      <td>7380</td>\n",
       "      <td>1433</td>\n",
       "    </tr>\n",
       "    <tr>\n",
       "      <th>1</th>\n",
       "      <td>0</td>\n",
       "      <td>221033</td>\n",
       "    </tr>\n",
       "  </tbody>\n",
       "</table>\n",
       "</div>"
      ],
      "text/plain": [
       "purchase     0       1\n",
       "is_paid               \n",
       "0         7380    1433\n",
       "1            0  221033"
      ]
     },
     "execution_count": 10,
     "metadata": {},
     "output_type": "execute_result"
    }
   ],
   "source": [
    "pd.crosstab(df.is_paid, df.purchase)"
   ]
  },
  {
   "cell_type": "code",
   "execution_count": 11,
   "metadata": {
    "colab": {
     "base_uri": "https://localhost:8080/",
     "height": 143
    },
    "id": "mun2fqd4sWH1",
    "outputId": "334878fa-645a-45a2-8d74-70fe1da04c1b"
   },
   "outputs": [
    {
     "data": {
      "text/html": [
       "<div>\n",
       "<style scoped>\n",
       "    .dataframe tbody tr th:only-of-type {\n",
       "        vertical-align: middle;\n",
       "    }\n",
       "\n",
       "    .dataframe tbody tr th {\n",
       "        vertical-align: top;\n",
       "    }\n",
       "\n",
       "    .dataframe thead th {\n",
       "        text-align: right;\n",
       "    }\n",
       "</style>\n",
       "<table border=\"1\" class=\"dataframe\">\n",
       "  <thead>\n",
       "    <tr style=\"text-align: right;\">\n",
       "      <th>is_remitted</th>\n",
       "      <th>0</th>\n",
       "      <th>1</th>\n",
       "    </tr>\n",
       "    <tr>\n",
       "      <th>is_paid</th>\n",
       "      <th></th>\n",
       "      <th></th>\n",
       "    </tr>\n",
       "  </thead>\n",
       "  <tbody>\n",
       "    <tr>\n",
       "      <th>0</th>\n",
       "      <td>8813</td>\n",
       "      <td>0</td>\n",
       "    </tr>\n",
       "    <tr>\n",
       "      <th>1</th>\n",
       "      <td>6829</td>\n",
       "      <td>214204</td>\n",
       "    </tr>\n",
       "  </tbody>\n",
       "</table>\n",
       "</div>"
      ],
      "text/plain": [
       "is_remitted     0       1\n",
       "is_paid                  \n",
       "0            8813       0\n",
       "1            6829  214204"
      ]
     },
     "execution_count": 11,
     "metadata": {},
     "output_type": "execute_result"
    }
   ],
   "source": [
    "pd.crosstab(df.is_paid, df.is_remitted)"
   ]
  },
  {
   "cell_type": "code",
   "execution_count": 12,
   "metadata": {
    "id": "tLqqaXrbHU69"
   },
   "outputs": [],
   "source": [
    "def plot_per(some):\n",
    "  gdf1= df[[some, 'purchase']].groupby([some, 'purchase']).purchase.count() / df[[some, 'purchase']].groupby([some]).purchase.count()\n",
    "  gdf2=gdf1.unstack()\n",
    "  gdf3=gdf2[gdf2.columns[::-1] ]\n",
    "  return gdf3.plot.bar(stacked=True)"
   ]
  },
  {
   "cell_type": "code",
   "execution_count": 13,
   "metadata": {
    "colab": {
     "base_uri": "https://localhost:8080/",
     "height": 299
    },
    "id": "dR-Sbdp1UlIu",
    "outputId": "907f580b-9dcd-47b0-9cdd-c8201ca7dd9e"
   },
   "outputs": [
    {
     "data": {
      "text/plain": [
       "<AxesSubplot:xlabel='province'>"
      ]
     },
     "execution_count": 13,
     "metadata": {},
     "output_type": "execute_result"
    },
    {
     "data": {
      "image/png": "[encoded data removed]",
      "text/plain": [
       "<Figure size 432x288 with 1 Axes>"
      ]
     },
     "metadata": {
      "needs_background": "light"
     },
     "output_type": "display_data"
    }
   ],
   "source": [
    "plot_per('province')"
   ]
  },
  {
   "cell_type": "code",
   "execution_count": 14,
   "metadata": {
    "colab": {
     "base_uri": "https://localhost:8080/",
     "height": 299
    },
    "id": "-RNc_ay6UoGZ",
    "outputId": "74012f46-094b-4c2c-ccd9-662b6b6c149f"
   },
   "outputs": [
    {
     "data": {
      "text/plain": [
       "<AxesSubplot:xlabel='user_type'>"
      ]
     },
     "execution_count": 14,
     "metadata": {},
     "output_type": "execute_result"
    },
    {
     "data": {
      "image/png": "[encoded data removed]",
      "text/plain": [
       "<Figure size 432x288 with 1 Axes>"
      ]
     },
     "metadata": {
      "needs_background": "light"
     },
     "output_type": "display_data"
    }
   ],
   "source": [
    "plot_per('user_type')"
   ]
  },
  {
   "cell_type": "code",
   "execution_count": 18,
   "metadata": {
    "colab": {
     "base_uri": "https://localhost:8080/",
     "height": 293
    },
    "id": "lePcZ4kZUtxM",
    "outputId": "881ca18f-ae18-4dec-e32e-709cbb9dfe9e"
   },
   "outputs": [
    {
     "data": {
      "text/plain": [
       "<AxesSubplot:xlabel='user_group'>"
      ]
     },
     "execution_count": 18,
     "metadata": {},
     "output_type": "execute_result"
    },
    {
     "data": {
      "image/png": "[encoded data removed]",
      "text/plain": [
       "<Figure size 432x288 with 1 Axes>"
      ]
     },
     "metadata": {
      "needs_background": "light"
     },
     "output_type": "display_data"
    }
   ],
   "source": [
    "plot_per('user_group')"
   ]
  },
  {
   "cell_type": "code",
   "execution_count": 19,
   "metadata": {
    "colab": {
     "base_uri": "https://localhost:8080/",
     "height": 293
    },
    "id": "lkvr5UnfUyt-",
    "outputId": "160ca255-f623-444c-c090-c26341d39018"
   },
   "outputs": [
    {
     "data": {
      "text/plain": [
       "<AxesSubplot:xlabel='account_type'>"
      ]
     },
     "execution_count": 19,
     "metadata": {},
     "output_type": "execute_result"
    },
    {
     "data": {
      "image/png": "[encoded data removed]",
      "text/plain": [
       "<Figure size 432x288 with 1 Axes>"
      ]
     },
     "metadata": {
      "needs_background": "light"
     },
     "output_type": "display_data"
    }
   ],
   "source": [
    "plot_per('account_type')"
   ]
  },
  {
   "cell_type": "code",
   "execution_count": 20,
   "metadata": {
    "colab": {
     "base_uri": "https://localhost:8080/",
     "height": 294
    },
    "id": "YRQjbytRU3dP",
    "outputId": "4d8d0c82-761a-482a-938e-8497b7559a40"
   },
   "outputs": [
    {
     "data": {
      "text/plain": [
       "<AxesSubplot:xlabel='user_purchased_prior'>"
      ]
     },
     "execution_count": 20,
     "metadata": {},
     "output_type": "execute_result"
    },
    {
     "data": {
      "image/png": "[encoded data removed]",
      "text/plain": [
       "<Figure size 432x288 with 1 Axes>"
      ]
     },
     "metadata": {
      "needs_background": "light"
     },
     "output_type": "display_data"
    }
   ],
   "source": [
    "plot_per('user_purchased_prior')"
   ]
  },
  {
   "cell_type": "code",
   "execution_count": 21,
   "metadata": {
    "colab": {
     "base_uri": "https://localhost:8080/",
     "height": 333
    },
    "id": "usafBe_IMv9W",
    "outputId": "d14bad74-576e-422e-dfbd-25635d601f68"
   },
   "outputs": [
    {
     "data": {
      "text/plain": [
       "<AxesSubplot:xlabel='marketing_tier'>"
      ]
     },
     "execution_count": 21,
     "metadata": {},
     "output_type": "execute_result"
    },
    {
     "data": {
      "image/png": "[encoded data removed]",
      "text/plain": [
       "<Figure size 432x288 with 1 Axes>"
      ]
     },
     "metadata": {
      "needs_background": "light"
     },
     "output_type": "display_data"
    }
   ],
   "source": [
    "plot_per('marketing_tier')"
   ]
  },
  {
   "cell_type": "code",
   "execution_count": 22,
   "metadata": {
    "colab": {
     "base_uri": "https://localhost:8080/",
     "height": 318
    },
    "id": "IjvYz5RvNQfX",
    "outputId": "fa665232-a909-4583-b472-59ab1426ee5b"
   },
   "outputs": [
    {
     "data": {
      "text/plain": [
       "<AxesSubplot:xlabel='voucher_type'>"
      ]
     },
     "execution_count": 22,
     "metadata": {},
     "output_type": "execute_result"
    },
    {
     "data": {
      "image/png": "[encoded data removed]",
      "text/plain": [
       "<Figure size 432x288 with 1 Axes>"
      ]
     },
     "metadata": {
      "needs_background": "light"
     },
     "output_type": "display_data"
    }
   ],
   "source": [
    "plot_per('voucher_type')"
   ]
  },
  {
   "cell_type": "code",
   "execution_count": 23,
   "metadata": {
    "colab": {
     "base_uri": "https://localhost:8080/",
     "height": 318
    },
    "id": "pIIjKdIZM81x",
    "outputId": "a1712904-35e1-4865-e4df-16de4d172420"
   },
   "outputs": [
    {
     "data": {
      "text/plain": [
       "<AxesSubplot:xlabel='voucher_valid'>"
      ]
     },
     "execution_count": 23,
     "metadata": {},
     "output_type": "execute_result"
    },
    {
     "data": {
      "image/png": "[encoded data removed]",
      "text/plain": [
       "<Figure size 432x288 with 1 Axes>"
      ]
     },
     "metadata": {
      "needs_background": "light"
     },
     "output_type": "display_data"
    }
   ],
   "source": [
    "plot_per('voucher_valid')"
   ]
  },
  {
   "cell_type": "code",
   "execution_count": 24,
   "metadata": {
    "colab": {
     "base_uri": "https://localhost:8080/",
     "height": 294
    },
    "id": "RCeZdvTFVDhU",
    "outputId": "5335d6b6-386a-4953-868a-e61f232b68be"
   },
   "outputs": [
    {
     "data": {
      "text/plain": [
       "<AxesSubplot:xlabel='referrer_type'>"
      ]
     },
     "execution_count": 24,
     "metadata": {},
     "output_type": "execute_result"
    },
    {
     "data": {
      "image/png": "[encoded data removed]",
      "text/plain": [
       "<Figure size 432x288 with 1 Axes>"
      ]
     },
     "metadata": {
      "needs_background": "light"
     },
     "output_type": "display_data"
    }
   ],
   "source": [
    "plot_per('referrer_type')"
   ]
  },
  {
   "cell_type": "code",
   "execution_count": 25,
   "metadata": {
    "colab": {
     "base_uri": "https://localhost:8080/",
     "height": 294
    },
    "id": "AHIuPF0WVGz0",
    "outputId": "ee8765e5-62b4-423c-f3f6-f371b63b3abe"
   },
   "outputs": [
    {
     "data": {
      "text/plain": [
       "<AxesSubplot:xlabel='user_register_from'>"
      ]
     },
     "execution_count": 25,
     "metadata": {},
     "output_type": "execute_result"
    },
    {
     "data": {
      "image/png": "[encoded data removed]",
      "text/plain": [
       "<Figure size 432x288 with 1 Axes>"
      ]
     },
     "metadata": {
      "needs_background": "light"
     },
     "output_type": "display_data"
    }
   ],
   "source": [
    "plot_per('user_register_from')"
   ]
  },
  {
   "cell_type": "code",
   "execution_count": 26,
   "metadata": {
    "colab": {
     "base_uri": "https://localhost:8080/",
     "height": 294
    },
    "id": "f4aGDMCpOUj8",
    "outputId": "78c6684b-d172-45ce-b2e8-e2c63b0cc981"
   },
   "outputs": [
    {
     "data": {
      "text/plain": [
       "<AxesSubplot:xlabel='trx_is_voucher'>"
      ]
     },
     "execution_count": 26,
     "metadata": {},
     "output_type": "execute_result"
    },
    {
     "data": {
      "image/png": "[encoded data removed]",
      "text/plain": [
       "<Figure size 432x288 with 1 Axes>"
      ]
     },
     "metadata": {
      "needs_background": "light"
     },
     "output_type": "display_data"
    }
   ],
   "source": [
    "plot_per('trx_is_voucher')"
   ]
  },
  {
   "cell_type": "markdown",
   "metadata": {
    "id": "BL1559rMRfzT"
   },
   "source": [
    "# 02 - How much impact in basket amount would removing vouchers have?\n"
   ]
  },
  {
   "cell_type": "markdown",
   "metadata": {
    "id": "-qp-FcqGRad7"
   },
   "source": [
    "# Impact of vouchers"
   ]
  },
  {
   "cell_type": "code",
   "execution_count": 15,
   "metadata": {
    "id": "yLZFMS6uMNlw"
   },
   "outputs": [],
   "source": [
    "cpurchased = df[df.purchase==1][['basket_amount','trx_is_voucher','user_id','purchase']]\n",
    "\n",
    "cvoucher = cpurchased[cpurchased.trx_is_voucher==1].groupby('user_id').purchase.sum()\n",
    "call = cpurchased.groupby('user_id').purchase.sum()"
   ]
  },
  {
   "cell_type": "code",
   "execution_count": 20,
   "metadata": {},
   "outputs": [
    {
     "data": {
      "text/html": [
       "<div>\n",
       "<style scoped>\n",
       "    .dataframe tbody tr th:only-of-type {\n",
       "        vertical-align: middle;\n",
       "    }\n",
       "\n",
       "    .dataframe tbody tr th {\n",
       "        vertical-align: top;\n",
       "    }\n",
       "\n",
       "    .dataframe thead th {\n",
       "        text-align: right;\n",
       "    }\n",
       "</style>\n",
       "<table border=\"1\" class=\"dataframe\">\n",
       "  <thead>\n",
       "    <tr style=\"text-align: right;\">\n",
       "      <th></th>\n",
       "      <th>basket_amount</th>\n",
       "      <th>trx_is_voucher</th>\n",
       "      <th>user_id</th>\n",
       "      <th>purchase</th>\n",
       "      <th>voucher_rate</th>\n",
       "    </tr>\n",
       "  </thead>\n",
       "  <tbody>\n",
       "    <tr>\n",
       "      <th>1</th>\n",
       "      <td>0.000024</td>\n",
       "      <td>0</td>\n",
       "      <td>281605921</td>\n",
       "      <td>1</td>\n",
       "      <td>0.000000</td>\n",
       "    </tr>\n",
       "    <tr>\n",
       "      <th>2</th>\n",
       "      <td>0.000164</td>\n",
       "      <td>0</td>\n",
       "      <td>125302602</td>\n",
       "      <td>1</td>\n",
       "      <td>0.166667</td>\n",
       "    </tr>\n",
       "    <tr>\n",
       "      <th>3</th>\n",
       "      <td>0.000175</td>\n",
       "      <td>1</td>\n",
       "      <td>125302602</td>\n",
       "      <td>1</td>\n",
       "      <td>0.166667</td>\n",
       "    </tr>\n",
       "    <tr>\n",
       "      <th>4</th>\n",
       "      <td>0.000170</td>\n",
       "      <td>1</td>\n",
       "      <td>125302602</td>\n",
       "      <td>1</td>\n",
       "      <td>0.166667</td>\n",
       "    </tr>\n",
       "    <tr>\n",
       "      <th>5</th>\n",
       "      <td>0.000173</td>\n",
       "      <td>0</td>\n",
       "      <td>125302602</td>\n",
       "      <td>1</td>\n",
       "      <td>0.166667</td>\n",
       "    </tr>\n",
       "  </tbody>\n",
       "</table>\n",
       "</div>"
      ],
      "text/plain": [
       "   basket_amount  trx_is_voucher    user_id  purchase  voucher_rate\n",
       "1       0.000024               0  281605921         1      0.000000\n",
       "2       0.000164               0  125302602         1      0.166667\n",
       "3       0.000175               1  125302602         1      0.166667\n",
       "4       0.000170               1  125302602         1      0.166667\n",
       "5       0.000173               0  125302602         1      0.166667"
      ]
     },
     "execution_count": 20,
     "metadata": {},
     "output_type": "execute_result"
    }
   ],
   "source": [
    "cpurchased.head()"
   ]
  },
  {
   "cell_type": "code",
   "execution_count": 21,
   "metadata": {},
   "outputs": [
    {
     "data": {
      "text/plain": [
       "user_id\n",
       "4148      1\n",
       "62283     3\n",
       "71122     1\n",
       "78926     1\n",
       "115563    1\n",
       "Name: purchase, dtype: int64"
      ]
     },
     "execution_count": 21,
     "metadata": {},
     "output_type": "execute_result"
    }
   ],
   "source": [
    "cvoucher.head()"
   ]
  },
  {
   "cell_type": "code",
   "execution_count": 22,
   "metadata": {},
   "outputs": [
    {
     "data": {
      "text/plain": [
       "user_id\n",
       "110      1\n",
       "4148     1\n",
       "27610    1\n",
       "50037    1\n",
       "62283    9\n",
       "Name: purchase, dtype: int64"
      ]
     },
     "execution_count": 22,
     "metadata": {},
     "output_type": "execute_result"
    }
   ],
   "source": [
    "call.head()"
   ]
  },
  {
   "cell_type": "code",
   "execution_count": 16,
   "metadata": {
    "id": "P2Anxo7aNH0h"
   },
   "outputs": [],
   "source": [
    "voucher_rate=(cvoucher/call).fillna(0).rename('voucher_rate')"
   ]
  },
  {
   "cell_type": "code",
   "execution_count": 17,
   "metadata": {
    "id": "MB36LMqdgwpN"
   },
   "outputs": [],
   "source": [
    "cpurchased=cpurchased.join(voucher_rate.rename('voucher_rate'), on='user_id')"
   ]
  },
  {
   "cell_type": "code",
   "execution_count": 23,
   "metadata": {},
   "outputs": [
    {
     "data": {
      "text/html": [
       "<div>\n",
       "<style scoped>\n",
       "    .dataframe tbody tr th:only-of-type {\n",
       "        vertical-align: middle;\n",
       "    }\n",
       "\n",
       "    .dataframe tbody tr th {\n",
       "        vertical-align: top;\n",
       "    }\n",
       "\n",
       "    .dataframe thead th {\n",
       "        text-align: right;\n",
       "    }\n",
       "</style>\n",
       "<table border=\"1\" class=\"dataframe\">\n",
       "  <thead>\n",
       "    <tr style=\"text-align: right;\">\n",
       "      <th></th>\n",
       "      <th>basket_amount</th>\n",
       "      <th>trx_is_voucher</th>\n",
       "      <th>user_id</th>\n",
       "      <th>purchase</th>\n",
       "      <th>voucher_rate</th>\n",
       "    </tr>\n",
       "  </thead>\n",
       "  <tbody>\n",
       "    <tr>\n",
       "      <th>1</th>\n",
       "      <td>0.000024</td>\n",
       "      <td>0</td>\n",
       "      <td>281605921</td>\n",
       "      <td>1</td>\n",
       "      <td>0.000000</td>\n",
       "    </tr>\n",
       "    <tr>\n",
       "      <th>2</th>\n",
       "      <td>0.000164</td>\n",
       "      <td>0</td>\n",
       "      <td>125302602</td>\n",
       "      <td>1</td>\n",
       "      <td>0.166667</td>\n",
       "    </tr>\n",
       "    <tr>\n",
       "      <th>3</th>\n",
       "      <td>0.000175</td>\n",
       "      <td>1</td>\n",
       "      <td>125302602</td>\n",
       "      <td>1</td>\n",
       "      <td>0.166667</td>\n",
       "    </tr>\n",
       "    <tr>\n",
       "      <th>4</th>\n",
       "      <td>0.000170</td>\n",
       "      <td>1</td>\n",
       "      <td>125302602</td>\n",
       "      <td>1</td>\n",
       "      <td>0.166667</td>\n",
       "    </tr>\n",
       "    <tr>\n",
       "      <th>5</th>\n",
       "      <td>0.000173</td>\n",
       "      <td>0</td>\n",
       "      <td>125302602</td>\n",
       "      <td>1</td>\n",
       "      <td>0.166667</td>\n",
       "    </tr>\n",
       "  </tbody>\n",
       "</table>\n",
       "</div>"
      ],
      "text/plain": [
       "   basket_amount  trx_is_voucher    user_id  purchase  voucher_rate\n",
       "1       0.000024               0  281605921         1      0.000000\n",
       "2       0.000164               0  125302602         1      0.166667\n",
       "3       0.000175               1  125302602         1      0.166667\n",
       "4       0.000170               1  125302602         1      0.166667\n",
       "5       0.000173               0  125302602         1      0.166667"
      ]
     },
     "execution_count": 23,
     "metadata": {},
     "output_type": "execute_result"
    }
   ],
   "source": [
    "cpurchased.head()"
   ]
  },
  {
   "cell_type": "code",
   "execution_count": 18,
   "metadata": {
    "colab": {
     "base_uri": "https://localhost:8080/",
     "height": 268
    },
    "id": "xn9LjYabOeik",
    "outputId": "c899bb5f-af2a-49c9-cdb5-10742b2518de"
   },
   "outputs": [
    {
     "data": {
      "image/png": "[encoded data removed]",
      "text/plain": [
       "<Figure size 432x288 with 1 Axes>"
      ]
     },
     "metadata": {
      "needs_background": "light"
     },
     "output_type": "display_data"
    }
   ],
   "source": [
    "import matplotlib.pyplot as plt\n",
    "\n",
    "num,bin,_=plt.hist(voucher_rate, bins=10, edgecolor=\"k\")"
   ]
  },
  {
   "cell_type": "code",
   "execution_count": 303,
   "metadata": {},
   "outputs": [],
   "source": [
    "cpurchased['bin']=pd.cut(cpurchased.voucher_rate,10)"
   ]
  },
  {
   "cell_type": "markdown",
   "metadata": {},
   "source": [
    "# Impact on basket value"
   ]
  },
  {
   "cell_type": "code",
   "execution_count": 304,
   "metadata": {},
   "outputs": [
    {
     "data": {
      "text/plain": [
       "bin\n",
       "(-0.001, 0.1]    0.000067\n",
       "(0.1, 0.2]       0.000092\n",
       "(0.2, 0.3]       0.000105\n",
       "(0.3, 0.4]       0.000118\n",
       "(0.4, 0.5]       0.000085\n",
       "(0.5, 0.6]       0.000174\n",
       "(0.6, 0.7]       0.000277\n",
       "(0.7, 0.8]       0.000280\n",
       "(0.8, 0.9]       0.000217\n",
       "(0.9, 1.0]       0.000095\n",
       "Name: basket_amount, dtype: float64"
      ]
     },
     "execution_count": 304,
     "metadata": {},
     "output_type": "execute_result"
    }
   ],
   "source": [
    "dfb=cpurchased.groupby('bin').basket_amount.mean()\n",
    "dfb"
   ]
  },
  {
   "cell_type": "code",
   "execution_count": 305,
   "metadata": {},
   "outputs": [
    {
     "data": {
      "text/plain": [
       "bin\n",
       "(-0.001, 0.1]    0.000067\n",
       "(0.1, 0.2]       0.000089\n",
       "(0.2, 0.3]       0.000094\n",
       "(0.3, 0.4]       0.000082\n",
       "(0.4, 0.5]       0.000065\n",
       "(0.5, 0.6]       0.000112\n",
       "(0.6, 0.7]       0.000106\n",
       "(0.7, 0.8]       0.000135\n",
       "(0.8, 0.9]       0.000105\n",
       "(0.9, 1.0]       0.000057\n",
       "Name: basket_amount, dtype: float64"
      ]
     },
     "execution_count": 305,
     "metadata": {},
     "output_type": "execute_result"
    }
   ],
   "source": [
    "dfbnv=cpurchased[cpurchased.trx_is_voucher==0].groupby('bin').basket_amount.mean()\n",
    "dfbnv"
   ]
  },
  {
   "cell_type": "code",
   "execution_count": 321,
   "metadata": {},
   "outputs": [
    {
     "data": {
      "text/html": [
       "<div>\n",
       "<style scoped>\n",
       "    .dataframe tbody tr th:only-of-type {\n",
       "        vertical-align: middle;\n",
       "    }\n",
       "\n",
       "    .dataframe tbody tr th {\n",
       "        vertical-align: top;\n",
       "    }\n",
       "\n",
       "    .dataframe thead th {\n",
       "        text-align: right;\n",
       "    }\n",
       "</style>\n",
       "<table border=\"1\" class=\"dataframe\">\n",
       "  <thead>\n",
       "    <tr style=\"text-align: right;\">\n",
       "      <th></th>\n",
       "      <th>withvoucher</th>\n",
       "      <th>nonvoucher</th>\n",
       "      <th>difference</th>\n",
       "      <th>%</th>\n",
       "    </tr>\n",
       "    <tr>\n",
       "      <th>bin</th>\n",
       "      <th></th>\n",
       "      <th></th>\n",
       "      <th></th>\n",
       "      <th></th>\n",
       "    </tr>\n",
       "  </thead>\n",
       "  <tbody>\n",
       "    <tr>\n",
       "      <th>(-0.001, 0.1]</th>\n",
       "      <td>0.000067</td>\n",
       "      <td>0.000067</td>\n",
       "      <td>3.326690e-08</td>\n",
       "      <td>0.050000</td>\n",
       "    </tr>\n",
       "    <tr>\n",
       "      <th>(0.1, 0.2]</th>\n",
       "      <td>0.000092</td>\n",
       "      <td>0.000089</td>\n",
       "      <td>2.175286e-06</td>\n",
       "      <td>2.373295</td>\n",
       "    </tr>\n",
       "    <tr>\n",
       "      <th>(0.2, 0.3]</th>\n",
       "      <td>0.000105</td>\n",
       "      <td>0.000094</td>\n",
       "      <td>1.102453e-05</td>\n",
       "      <td>10.487412</td>\n",
       "    </tr>\n",
       "    <tr>\n",
       "      <th>(0.3, 0.4]</th>\n",
       "      <td>0.000118</td>\n",
       "      <td>0.000082</td>\n",
       "      <td>3.609190e-05</td>\n",
       "      <td>30.636798</td>\n",
       "    </tr>\n",
       "    <tr>\n",
       "      <th>(0.4, 0.5]</th>\n",
       "      <td>0.000085</td>\n",
       "      <td>0.000065</td>\n",
       "      <td>1.999175e-05</td>\n",
       "      <td>23.623417</td>\n",
       "    </tr>\n",
       "    <tr>\n",
       "      <th>(0.5, 0.6]</th>\n",
       "      <td>0.000174</td>\n",
       "      <td>0.000112</td>\n",
       "      <td>6.216741e-05</td>\n",
       "      <td>35.701060</td>\n",
       "    </tr>\n",
       "    <tr>\n",
       "      <th>(0.6, 0.7]</th>\n",
       "      <td>0.000277</td>\n",
       "      <td>0.000106</td>\n",
       "      <td>1.710720e-04</td>\n",
       "      <td>61.834185</td>\n",
       "    </tr>\n",
       "    <tr>\n",
       "      <th>(0.7, 0.8]</th>\n",
       "      <td>0.000280</td>\n",
       "      <td>0.000135</td>\n",
       "      <td>1.450545e-04</td>\n",
       "      <td>51.742123</td>\n",
       "    </tr>\n",
       "    <tr>\n",
       "      <th>(0.8, 0.9]</th>\n",
       "      <td>0.000217</td>\n",
       "      <td>0.000105</td>\n",
       "      <td>1.121365e-04</td>\n",
       "      <td>51.608604</td>\n",
       "    </tr>\n",
       "    <tr>\n",
       "      <th>(0.9, 1.0]</th>\n",
       "      <td>0.000095</td>\n",
       "      <td>0.000057</td>\n",
       "      <td>3.718153e-05</td>\n",
       "      <td>39.308087</td>\n",
       "    </tr>\n",
       "  </tbody>\n",
       "</table>\n",
       "</div>"
      ],
      "text/plain": [
       "               withvoucher  nonvoucher    difference          %\n",
       "bin                                                            \n",
       "(-0.001, 0.1]     0.000067    0.000067  3.326690e-08   0.050000\n",
       "(0.1, 0.2]        0.000092    0.000089  2.175286e-06   2.373295\n",
       "(0.2, 0.3]        0.000105    0.000094  1.102453e-05  10.487412\n",
       "(0.3, 0.4]        0.000118    0.000082  3.609190e-05  30.636798\n",
       "(0.4, 0.5]        0.000085    0.000065  1.999175e-05  23.623417\n",
       "(0.5, 0.6]        0.000174    0.000112  6.216741e-05  35.701060\n",
       "(0.6, 0.7]        0.000277    0.000106  1.710720e-04  61.834185\n",
       "(0.7, 0.8]        0.000280    0.000135  1.450545e-04  51.742123\n",
       "(0.8, 0.9]        0.000217    0.000105  1.121365e-04  51.608604\n",
       "(0.9, 1.0]        0.000095    0.000057  3.718153e-05  39.308087"
      ]
     },
     "execution_count": 321,
     "metadata": {},
     "output_type": "execute_result"
    }
   ],
   "source": [
    "dfbdiff = pd.DataFrame()\n",
    "dfbdiff['withvoucher'] = dfb\n",
    "dfbdiff['nonvoucher'] = dfbnv\n",
    "dfbdiff['difference'] = dfb-dfbnv\n",
    "dfbdiff['%'] = (dfbdiff['difference']/dfb*100)\n",
    "dfbdiff"
   ]
  },
  {
   "cell_type": "markdown",
   "metadata": {
    "id": "ivwzVcCK4Z_o"
   },
   "source": [
    "# Impact on unique users"
   ]
  },
  {
   "cell_type": "code",
   "execution_count": 315,
   "metadata": {
    "colab": {
     "base_uri": "https://localhost:8080/",
     "height": 394
    },
    "id": "50g5VgSP-e9v",
    "outputId": "1a35d666-3598-4274-ad82-8938e2fe3fa4"
   },
   "outputs": [
    {
     "data": {
      "text/plain": [
       "bin\n",
       "(-0.001, 0.1]    48053\n",
       "(0.1, 0.2]         786\n",
       "(0.2, 0.3]         621\n",
       "(0.3, 0.4]        1051\n",
       "(0.4, 0.5]        3423\n",
       "(0.5, 0.6]         165\n",
       "(0.6, 0.7]         495\n",
       "(0.7, 0.8]         395\n",
       "(0.8, 0.9]         310\n",
       "(0.9, 1.0]       12618\n",
       "Name: user_id, dtype: int64"
      ]
     },
     "execution_count": 315,
     "metadata": {},
     "output_type": "execute_result"
    }
   ],
   "source": [
    "dfu=cpurchased.groupby('bin').user_id.nunique()\n",
    "dfu"
   ]
  },
  {
   "cell_type": "code",
   "execution_count": 316,
   "metadata": {},
   "outputs": [
    {
     "data": {
      "text/plain": [
       "bin\n",
       "(-0.001, 0.1]    48053\n",
       "(0.1, 0.2]         786\n",
       "(0.2, 0.3]         621\n",
       "(0.3, 0.4]        1051\n",
       "(0.4, 0.5]        3423\n",
       "(0.5, 0.6]         165\n",
       "(0.6, 0.7]         495\n",
       "(0.7, 0.8]         395\n",
       "(0.8, 0.9]         310\n",
       "(0.9, 1.0]         122\n",
       "Name: user_id, dtype: int64"
      ]
     },
     "execution_count": 316,
     "metadata": {},
     "output_type": "execute_result"
    }
   ],
   "source": [
    "dfunv=cpurchased[cpurchased.trx_is_voucher==0].groupby('bin').user_id.nunique()\n",
    "dfunv"
   ]
  },
  {
   "cell_type": "code",
   "execution_count": 320,
   "metadata": {},
   "outputs": [
    {
     "data": {
      "text/html": [
       "<div>\n",
       "<style scoped>\n",
       "    .dataframe tbody tr th:only-of-type {\n",
       "        vertical-align: middle;\n",
       "    }\n",
       "\n",
       "    .dataframe tbody tr th {\n",
       "        vertical-align: top;\n",
       "    }\n",
       "\n",
       "    .dataframe thead th {\n",
       "        text-align: right;\n",
       "    }\n",
       "</style>\n",
       "<table border=\"1\" class=\"dataframe\">\n",
       "  <thead>\n",
       "    <tr style=\"text-align: right;\">\n",
       "      <th></th>\n",
       "      <th>withvoucher</th>\n",
       "      <th>nonvoucher</th>\n",
       "      <th>difference</th>\n",
       "      <th>%</th>\n",
       "    </tr>\n",
       "    <tr>\n",
       "      <th>bin</th>\n",
       "      <th></th>\n",
       "      <th></th>\n",
       "      <th></th>\n",
       "      <th></th>\n",
       "    </tr>\n",
       "  </thead>\n",
       "  <tbody>\n",
       "    <tr>\n",
       "      <th>(-0.001, 0.1]</th>\n",
       "      <td>48053</td>\n",
       "      <td>48053</td>\n",
       "      <td>0</td>\n",
       "      <td>0.000000</td>\n",
       "    </tr>\n",
       "    <tr>\n",
       "      <th>(0.1, 0.2]</th>\n",
       "      <td>786</td>\n",
       "      <td>786</td>\n",
       "      <td>0</td>\n",
       "      <td>0.000000</td>\n",
       "    </tr>\n",
       "    <tr>\n",
       "      <th>(0.2, 0.3]</th>\n",
       "      <td>621</td>\n",
       "      <td>621</td>\n",
       "      <td>0</td>\n",
       "      <td>0.000000</td>\n",
       "    </tr>\n",
       "    <tr>\n",
       "      <th>(0.3, 0.4]</th>\n",
       "      <td>1051</td>\n",
       "      <td>1051</td>\n",
       "      <td>0</td>\n",
       "      <td>0.000000</td>\n",
       "    </tr>\n",
       "    <tr>\n",
       "      <th>(0.4, 0.5]</th>\n",
       "      <td>3423</td>\n",
       "      <td>3423</td>\n",
       "      <td>0</td>\n",
       "      <td>0.000000</td>\n",
       "    </tr>\n",
       "    <tr>\n",
       "      <th>(0.5, 0.6]</th>\n",
       "      <td>165</td>\n",
       "      <td>165</td>\n",
       "      <td>0</td>\n",
       "      <td>0.000000</td>\n",
       "    </tr>\n",
       "    <tr>\n",
       "      <th>(0.6, 0.7]</th>\n",
       "      <td>495</td>\n",
       "      <td>495</td>\n",
       "      <td>0</td>\n",
       "      <td>0.000000</td>\n",
       "    </tr>\n",
       "    <tr>\n",
       "      <th>(0.7, 0.8]</th>\n",
       "      <td>395</td>\n",
       "      <td>395</td>\n",
       "      <td>0</td>\n",
       "      <td>0.000000</td>\n",
       "    </tr>\n",
       "    <tr>\n",
       "      <th>(0.8, 0.9]</th>\n",
       "      <td>310</td>\n",
       "      <td>310</td>\n",
       "      <td>0</td>\n",
       "      <td>0.000000</td>\n",
       "    </tr>\n",
       "    <tr>\n",
       "      <th>(0.9, 1.0]</th>\n",
       "      <td>12618</td>\n",
       "      <td>122</td>\n",
       "      <td>12496</td>\n",
       "      <td>99.033127</td>\n",
       "    </tr>\n",
       "  </tbody>\n",
       "</table>\n",
       "</div>"
      ],
      "text/plain": [
       "               withvoucher  nonvoucher  difference          %\n",
       "bin                                                          \n",
       "(-0.001, 0.1]        48053       48053           0   0.000000\n",
       "(0.1, 0.2]             786         786           0   0.000000\n",
       "(0.2, 0.3]             621         621           0   0.000000\n",
       "(0.3, 0.4]            1051        1051           0   0.000000\n",
       "(0.4, 0.5]            3423        3423           0   0.000000\n",
       "(0.5, 0.6]             165         165           0   0.000000\n",
       "(0.6, 0.7]             495         495           0   0.000000\n",
       "(0.7, 0.8]             395         395           0   0.000000\n",
       "(0.8, 0.9]             310         310           0   0.000000\n",
       "(0.9, 1.0]           12618         122       12496  99.033127"
      ]
     },
     "execution_count": 320,
     "metadata": {},
     "output_type": "execute_result"
    }
   ],
   "source": [
    "dfudiff = pd.DataFrame()\n",
    "dfudiff['withvoucher'] = dfu\n",
    "dfudiff['nonvoucher'] = dfunv\n",
    "dfudiff['difference'] = dfu-dfunv\n",
    "dfudiff['%'] = (dfudiff['difference']/dfu*100)\n",
    "dfudiff"
   ]
  },
  {
   "cell_type": "code",
   "execution_count": null,
   "metadata": {},
   "outputs": [],
   "source": []
  }
 ],
 "metadata": {
  "colab": {
   "collapsed_sections": [],
   "name": "00-and-02-eda-and-voucher_rate.ipynb",
   "provenance": []
  },
  "kernelspec": {
   "display_name": "Python 3 (ipykernel)",
   "language": "python",
   "name": "python3"
  },
  "language_info": {
   "codemirror_mode": {
    "name": "ipython",
    "version": 3
   },
   "file_extension": ".py",
   "mimetype": "text/x-python",
   "name": "python",
   "nbconvert_exporter": "python",
   "pygments_lexer": "ipython3",
   "version": "3.9.7"
  }
 },
 "nbformat": 4,
 "nbformat_minor": 4
}
